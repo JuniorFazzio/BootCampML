{
 "cells": [
  {
   "cell_type": "markdown",
   "metadata": {},
   "source": [
    "# Hands-On de Sintonia de Hiperparâmetros\n",
    "---"
   ]
  },
  {
   "cell_type": "markdown",
   "metadata": {},
   "source": [
    "Vamos trabalhar com a otimização de hiperparâmetros de modelos de aprendizado de maquina utilizando a base de dados diabetes.csv que pode ser encontrada no OpenML.\n",
    "Além disso, vamos usar dois modelos de classificação:\n",
    "* Support Vector Machine. (SVM)\n",
    "* Random Forest.\n",
    "\n",
    "Será dividido em duas etapas, primeira vamos treinar e testar os modelos de classificação (lembrando que o método apresentado aqui é equivalente para regressão e clusterização). Na segunda, vamos aplicar cross validation para o processo de validação dos modelos e, em conjunto, vamos usar os métodos de grid search e random search para otimização."
   ]
  },
  {
   "cell_type": "markdown",
   "metadata": {},
   "source": [
    "## Importando bibliotecas"
   ]
  },
  {
   "cell_type": "code",
   "execution_count": 2,
   "metadata": {},
   "outputs": [],
   "source": [
    "#Importando as bibliotecas mais usadas\n",
    "import pandas as pd\n",
    "import numpy as np\n",
    "import matplotlib.pyplot as plt"
   ]
  },
  {
   "cell_type": "code",
   "execution_count": 3,
   "metadata": {},
   "outputs": [],
   "source": [
    "#Agora vamos importar o nosso dataframe.\n",
    "df = pd.read_csv(r'C:\\Users\\Ademir\\Desktop\\BootCamp IGTI\\ML\\Módulo 3 - Seleção de Modelos de ML\\dataset_37_diabetes.csv')"
   ]
  },
  {
   "cell_type": "code",
   "execution_count": 4,
   "metadata": {},
   "outputs": [
    {
     "data": {
      "text/html": [
       "<div>\n",
       "<style scoped>\n",
       "    .dataframe tbody tr th:only-of-type {\n",
       "        vertical-align: middle;\n",
       "    }\n",
       "\n",
       "    .dataframe tbody tr th {\n",
       "        vertical-align: top;\n",
       "    }\n",
       "\n",
       "    .dataframe thead th {\n",
       "        text-align: right;\n",
       "    }\n",
       "</style>\n",
       "<table border=\"1\" class=\"dataframe\">\n",
       "  <thead>\n",
       "    <tr style=\"text-align: right;\">\n",
       "      <th></th>\n",
       "      <th>preg</th>\n",
       "      <th>plas</th>\n",
       "      <th>pres</th>\n",
       "      <th>skin</th>\n",
       "      <th>insu</th>\n",
       "      <th>mass</th>\n",
       "      <th>pedi</th>\n",
       "      <th>age</th>\n",
       "      <th>class</th>\n",
       "    </tr>\n",
       "  </thead>\n",
       "  <tbody>\n",
       "    <tr>\n",
       "      <th>0</th>\n",
       "      <td>6</td>\n",
       "      <td>148</td>\n",
       "      <td>72</td>\n",
       "      <td>35</td>\n",
       "      <td>0</td>\n",
       "      <td>33.6</td>\n",
       "      <td>0.627</td>\n",
       "      <td>50</td>\n",
       "      <td>tested_positive</td>\n",
       "    </tr>\n",
       "    <tr>\n",
       "      <th>1</th>\n",
       "      <td>1</td>\n",
       "      <td>85</td>\n",
       "      <td>66</td>\n",
       "      <td>29</td>\n",
       "      <td>0</td>\n",
       "      <td>26.6</td>\n",
       "      <td>0.351</td>\n",
       "      <td>31</td>\n",
       "      <td>tested_negative</td>\n",
       "    </tr>\n",
       "    <tr>\n",
       "      <th>2</th>\n",
       "      <td>8</td>\n",
       "      <td>183</td>\n",
       "      <td>64</td>\n",
       "      <td>0</td>\n",
       "      <td>0</td>\n",
       "      <td>23.3</td>\n",
       "      <td>0.672</td>\n",
       "      <td>32</td>\n",
       "      <td>tested_positive</td>\n",
       "    </tr>\n",
       "    <tr>\n",
       "      <th>3</th>\n",
       "      <td>1</td>\n",
       "      <td>89</td>\n",
       "      <td>66</td>\n",
       "      <td>23</td>\n",
       "      <td>94</td>\n",
       "      <td>28.1</td>\n",
       "      <td>0.167</td>\n",
       "      <td>21</td>\n",
       "      <td>tested_negative</td>\n",
       "    </tr>\n",
       "    <tr>\n",
       "      <th>4</th>\n",
       "      <td>0</td>\n",
       "      <td>137</td>\n",
       "      <td>40</td>\n",
       "      <td>35</td>\n",
       "      <td>168</td>\n",
       "      <td>43.1</td>\n",
       "      <td>2.288</td>\n",
       "      <td>33</td>\n",
       "      <td>tested_positive</td>\n",
       "    </tr>\n",
       "  </tbody>\n",
       "</table>\n",
       "</div>"
      ],
      "text/plain": [
       "   preg  plas  pres  skin  insu  mass   pedi  age            class\n",
       "0     6   148    72    35     0  33.6  0.627   50  tested_positive\n",
       "1     1    85    66    29     0  26.6  0.351   31  tested_negative\n",
       "2     8   183    64     0     0  23.3  0.672   32  tested_positive\n",
       "3     1    89    66    23    94  28.1  0.167   21  tested_negative\n",
       "4     0   137    40    35   168  43.1  2.288   33  tested_positive"
      ]
     },
     "execution_count": 4,
     "metadata": {},
     "output_type": "execute_result"
    }
   ],
   "source": [
    "#Checando\n",
    "df.head()"
   ]
  },
  {
   "cell_type": "markdown",
   "metadata": {},
   "source": [
    "*   preg: number of times pregnant\n",
    "*   plas: Plasma glucose concentration a 2 hours in an oral glucose tolerance test\n",
    "*   pres: Diastolic blood pressure (mm Hg)\n",
    "*   skin: Triceps skin fold thickness (mm)\n",
    "*   insu: 2-Hour serum insulin (mu U/ml)\n",
    "*   mass: Body mass index (weight in kg/(height in m)^2)\n",
    "*   pedi: Diabetes pedigree function\n",
    "*   age: Age (years)\n",
    "*   class: Class variable (tested_positive or tested_negative)"
   ]
  },
  {
   "cell_type": "code",
   "execution_count": 5,
   "metadata": {},
   "outputs": [
    {
     "name": "stdout",
     "output_type": "stream",
     "text": [
      "<class 'pandas.core.frame.DataFrame'>\n",
      "RangeIndex: 768 entries, 0 to 767\n",
      "Data columns (total 9 columns):\n",
      " #   Column  Non-Null Count  Dtype  \n",
      "---  ------  --------------  -----  \n",
      " 0   preg    768 non-null    int64  \n",
      " 1   plas    768 non-null    int64  \n",
      " 2   pres    768 non-null    int64  \n",
      " 3   skin    768 non-null    int64  \n",
      " 4   insu    768 non-null    int64  \n",
      " 5   mass    768 non-null    float64\n",
      " 6   pedi    768 non-null    float64\n",
      " 7   age     768 non-null    int64  \n",
      " 8   class   768 non-null    object \n",
      "dtypes: float64(2), int64(6), object(1)\n",
      "memory usage: 54.1+ KB\n"
     ]
    }
   ],
   "source": [
    "#Agora fazendo uma análise rápida dos nossos dados\n",
    "df.info()"
   ]
  },
  {
   "cell_type": "markdown",
   "metadata": {},
   "source": [
    "## Pré-processamento"
   ]
  },
  {
   "cell_type": "code",
   "execution_count": 6,
   "metadata": {},
   "outputs": [
    {
     "data": {
      "text/html": [
       "<div>\n",
       "<style scoped>\n",
       "    .dataframe tbody tr th:only-of-type {\n",
       "        vertical-align: middle;\n",
       "    }\n",
       "\n",
       "    .dataframe tbody tr th {\n",
       "        vertical-align: top;\n",
       "    }\n",
       "\n",
       "    .dataframe thead th {\n",
       "        text-align: right;\n",
       "    }\n",
       "</style>\n",
       "<table border=\"1\" class=\"dataframe\">\n",
       "  <thead>\n",
       "    <tr style=\"text-align: right;\">\n",
       "      <th></th>\n",
       "      <th>preg</th>\n",
       "      <th>plas</th>\n",
       "      <th>pres</th>\n",
       "      <th>skin</th>\n",
       "      <th>insu</th>\n",
       "      <th>mass</th>\n",
       "      <th>pedi</th>\n",
       "      <th>age</th>\n",
       "      <th>class</th>\n",
       "    </tr>\n",
       "  </thead>\n",
       "  <tbody>\n",
       "    <tr>\n",
       "      <th>0</th>\n",
       "      <td>6</td>\n",
       "      <td>148</td>\n",
       "      <td>72</td>\n",
       "      <td>35</td>\n",
       "      <td>0</td>\n",
       "      <td>33.6</td>\n",
       "      <td>0.627</td>\n",
       "      <td>50</td>\n",
       "      <td>1</td>\n",
       "    </tr>\n",
       "    <tr>\n",
       "      <th>1</th>\n",
       "      <td>1</td>\n",
       "      <td>85</td>\n",
       "      <td>66</td>\n",
       "      <td>29</td>\n",
       "      <td>0</td>\n",
       "      <td>26.6</td>\n",
       "      <td>0.351</td>\n",
       "      <td>31</td>\n",
       "      <td>0</td>\n",
       "    </tr>\n",
       "    <tr>\n",
       "      <th>2</th>\n",
       "      <td>8</td>\n",
       "      <td>183</td>\n",
       "      <td>64</td>\n",
       "      <td>0</td>\n",
       "      <td>0</td>\n",
       "      <td>23.3</td>\n",
       "      <td>0.672</td>\n",
       "      <td>32</td>\n",
       "      <td>1</td>\n",
       "    </tr>\n",
       "    <tr>\n",
       "      <th>3</th>\n",
       "      <td>1</td>\n",
       "      <td>89</td>\n",
       "      <td>66</td>\n",
       "      <td>23</td>\n",
       "      <td>94</td>\n",
       "      <td>28.1</td>\n",
       "      <td>0.167</td>\n",
       "      <td>21</td>\n",
       "      <td>0</td>\n",
       "    </tr>\n",
       "    <tr>\n",
       "      <th>4</th>\n",
       "      <td>0</td>\n",
       "      <td>137</td>\n",
       "      <td>40</td>\n",
       "      <td>35</td>\n",
       "      <td>168</td>\n",
       "      <td>43.1</td>\n",
       "      <td>2.288</td>\n",
       "      <td>33</td>\n",
       "      <td>1</td>\n",
       "    </tr>\n",
       "  </tbody>\n",
       "</table>\n",
       "</div>"
      ],
      "text/plain": [
       "   preg  plas  pres  skin  insu  mass   pedi  age  class\n",
       "0     6   148    72    35     0  33.6  0.627   50      1\n",
       "1     1    85    66    29     0  26.6  0.351   31      0\n",
       "2     8   183    64     0     0  23.3  0.672   32      1\n",
       "3     1    89    66    23    94  28.1  0.167   21      0\n",
       "4     0   137    40    35   168  43.1  2.288   33      1"
      ]
     },
     "execution_count": 6,
     "metadata": {},
     "output_type": "execute_result"
    }
   ],
   "source": [
    "#Vamos mapear nossa coluna 'class' do dataframe \n",
    "name_to_class ={\n",
    "    'tested_positive': 1,\n",
    "    'tested_negative': 0\n",
    "}\n",
    "\n",
    "df['class'] = df['class'].map(name_to_class)\n",
    "df.head()"
   ]
  },
  {
   "cell_type": "code",
   "execution_count": 7,
   "metadata": {},
   "outputs": [
    {
     "data": {
      "text/html": [
       "<div>\n",
       "<style scoped>\n",
       "    .dataframe tbody tr th:only-of-type {\n",
       "        vertical-align: middle;\n",
       "    }\n",
       "\n",
       "    .dataframe tbody tr th {\n",
       "        vertical-align: top;\n",
       "    }\n",
       "\n",
       "    .dataframe thead th {\n",
       "        text-align: right;\n",
       "    }\n",
       "</style>\n",
       "<table border=\"1\" class=\"dataframe\">\n",
       "  <thead>\n",
       "    <tr style=\"text-align: right;\">\n",
       "      <th></th>\n",
       "      <th>preg</th>\n",
       "      <th>plas</th>\n",
       "      <th>pres</th>\n",
       "      <th>skin</th>\n",
       "      <th>insu</th>\n",
       "      <th>mass</th>\n",
       "      <th>pedi</th>\n",
       "      <th>age</th>\n",
       "      <th>class</th>\n",
       "    </tr>\n",
       "  </thead>\n",
       "  <tbody>\n",
       "    <tr>\n",
       "      <th>count</th>\n",
       "      <td>768.000000</td>\n",
       "      <td>768.000000</td>\n",
       "      <td>768.000000</td>\n",
       "      <td>768.000000</td>\n",
       "      <td>768.000000</td>\n",
       "      <td>768.000000</td>\n",
       "      <td>768.000000</td>\n",
       "      <td>768.000000</td>\n",
       "      <td>768.000000</td>\n",
       "    </tr>\n",
       "    <tr>\n",
       "      <th>mean</th>\n",
       "      <td>3.845052</td>\n",
       "      <td>120.894531</td>\n",
       "      <td>69.105469</td>\n",
       "      <td>20.536458</td>\n",
       "      <td>79.799479</td>\n",
       "      <td>31.992578</td>\n",
       "      <td>0.471876</td>\n",
       "      <td>33.240885</td>\n",
       "      <td>0.348958</td>\n",
       "    </tr>\n",
       "    <tr>\n",
       "      <th>std</th>\n",
       "      <td>3.369578</td>\n",
       "      <td>31.972618</td>\n",
       "      <td>19.355807</td>\n",
       "      <td>15.952218</td>\n",
       "      <td>115.244002</td>\n",
       "      <td>7.884160</td>\n",
       "      <td>0.331329</td>\n",
       "      <td>11.760232</td>\n",
       "      <td>0.476951</td>\n",
       "    </tr>\n",
       "    <tr>\n",
       "      <th>min</th>\n",
       "      <td>0.000000</td>\n",
       "      <td>0.000000</td>\n",
       "      <td>0.000000</td>\n",
       "      <td>0.000000</td>\n",
       "      <td>0.000000</td>\n",
       "      <td>0.000000</td>\n",
       "      <td>0.078000</td>\n",
       "      <td>21.000000</td>\n",
       "      <td>0.000000</td>\n",
       "    </tr>\n",
       "    <tr>\n",
       "      <th>25%</th>\n",
       "      <td>1.000000</td>\n",
       "      <td>99.000000</td>\n",
       "      <td>62.000000</td>\n",
       "      <td>0.000000</td>\n",
       "      <td>0.000000</td>\n",
       "      <td>27.300000</td>\n",
       "      <td>0.243750</td>\n",
       "      <td>24.000000</td>\n",
       "      <td>0.000000</td>\n",
       "    </tr>\n",
       "    <tr>\n",
       "      <th>50%</th>\n",
       "      <td>3.000000</td>\n",
       "      <td>117.000000</td>\n",
       "      <td>72.000000</td>\n",
       "      <td>23.000000</td>\n",
       "      <td>30.500000</td>\n",
       "      <td>32.000000</td>\n",
       "      <td>0.372500</td>\n",
       "      <td>29.000000</td>\n",
       "      <td>0.000000</td>\n",
       "    </tr>\n",
       "    <tr>\n",
       "      <th>75%</th>\n",
       "      <td>6.000000</td>\n",
       "      <td>140.250000</td>\n",
       "      <td>80.000000</td>\n",
       "      <td>32.000000</td>\n",
       "      <td>127.250000</td>\n",
       "      <td>36.600000</td>\n",
       "      <td>0.626250</td>\n",
       "      <td>41.000000</td>\n",
       "      <td>1.000000</td>\n",
       "    </tr>\n",
       "    <tr>\n",
       "      <th>max</th>\n",
       "      <td>17.000000</td>\n",
       "      <td>199.000000</td>\n",
       "      <td>122.000000</td>\n",
       "      <td>99.000000</td>\n",
       "      <td>846.000000</td>\n",
       "      <td>67.100000</td>\n",
       "      <td>2.420000</td>\n",
       "      <td>81.000000</td>\n",
       "      <td>1.000000</td>\n",
       "    </tr>\n",
       "  </tbody>\n",
       "</table>\n",
       "</div>"
      ],
      "text/plain": [
       "             preg        plas        pres        skin        insu        mass  \\\n",
       "count  768.000000  768.000000  768.000000  768.000000  768.000000  768.000000   \n",
       "mean     3.845052  120.894531   69.105469   20.536458   79.799479   31.992578   \n",
       "std      3.369578   31.972618   19.355807   15.952218  115.244002    7.884160   \n",
       "min      0.000000    0.000000    0.000000    0.000000    0.000000    0.000000   \n",
       "25%      1.000000   99.000000   62.000000    0.000000    0.000000   27.300000   \n",
       "50%      3.000000  117.000000   72.000000   23.000000   30.500000   32.000000   \n",
       "75%      6.000000  140.250000   80.000000   32.000000  127.250000   36.600000   \n",
       "max     17.000000  199.000000  122.000000   99.000000  846.000000   67.100000   \n",
       "\n",
       "             pedi         age       class  \n",
       "count  768.000000  768.000000  768.000000  \n",
       "mean     0.471876   33.240885    0.348958  \n",
       "std      0.331329   11.760232    0.476951  \n",
       "min      0.078000   21.000000    0.000000  \n",
       "25%      0.243750   24.000000    0.000000  \n",
       "50%      0.372500   29.000000    0.000000  \n",
       "75%      0.626250   41.000000    1.000000  \n",
       "max      2.420000   81.000000    1.000000  "
      ]
     },
     "execution_count": 7,
     "metadata": {},
     "output_type": "execute_result"
    }
   ],
   "source": [
    "#Agora vamos analisar os parâmetros das colunas\n",
    "df.describe()"
   ]
  },
  {
   "cell_type": "markdown",
   "metadata": {},
   "source": [
    "    Como os modelos construidos com sklearn recebe arrays, vamos fazer a separação dos nossos dados e labels para realizar nosso treino."
   ]
  },
  {
   "cell_type": "code",
   "execution_count": 8,
   "metadata": {},
   "outputs": [],
   "source": [
    "#Armazenando nossos labels\n",
    "labels_diab = np.array(df['class'])\n",
    "feature_list = list(df.columns)"
   ]
  },
  {
   "cell_type": "code",
   "execution_count": 11,
   "metadata": {},
   "outputs": [],
   "source": [
    "#Agora vamos pegar nossos dados\n",
    "data_diab = df.drop('class', axis = 1)\n",
    "data_diab = np.array(data_diab)"
   ]
  },
  {
   "cell_type": "markdown",
   "metadata": {},
   "source": [
    "Agora vamos usar o método de validação Treino-Teste apenas porque utilizaremos o método de força bruta, e isso facilita nossa vida."
   ]
  },
  {
   "cell_type": "code",
   "execution_count": 12,
   "metadata": {},
   "outputs": [],
   "source": [
    "#Importando bibliotecas\n",
    "from sklearn.model_selection import train_test_split\n",
    "\n",
    "#Separando nossos dados e labels em treino e teste\n",
    "\n",
    "xtrain, xtest, ytrain, ytest = train_test_split(data_diab, labels_diab,\n",
    "                                               test_size = 0.25, random_state = 42)"
   ]
  },
  {
   "cell_type": "markdown",
   "metadata": {},
   "source": [
    "## Support Vector Machine\n",
    "---\n",
    "Analisando o SVM"
   ]
  },
  {
   "cell_type": "code",
   "execution_count": 15,
   "metadata": {},
   "outputs": [],
   "source": [
    "#Vamos importar e setar nosso modelo\n",
    "from sklearn.svm import SVC\n",
    "\n",
    "#Vamos fazer agora nosso set\n",
    "classifier_svc1 = SVC(kernel='rbf').fit(xtrain, ytrain)"
   ]
  },
  {
   "cell_type": "code",
   "execution_count": 16,
   "metadata": {},
   "outputs": [],
   "source": [
    "#Agora que setamos vamos realizar nossa previsão\n",
    "\n",
    "pred_svm1 = classifier_svc.predict(xtest)"
   ]
  },
  {
   "cell_type": "code",
   "execution_count": 17,
   "metadata": {},
   "outputs": [
    {
     "name": "stdout",
     "output_type": "stream",
     "text": [
      "Matriz de confusão:\n",
      " [[106  17]\n",
      " [ 35  34]]\n",
      "\n",
      "Acurácia:  0.7291666666666666\n",
      "\n",
      "F1:  0.5666666666666667\n",
      "\n",
      "AUROC:  0.6772711205372923\n"
     ]
    }
   ],
   "source": [
    "#Agora vamos analisar nossas métricas de classificação\n",
    "\n",
    "from sklearn import metrics\n",
    "\n",
    "print('Matriz de confusão:\\n', metrics.confusion_matrix(ytest, pred_svm1))\n",
    "print('\\nAcurácia: ', metrics.accuracy_score(ytest, pred_svm1))\n",
    "print('\\nF1: ', metrics.f1_score(ytest, pred_svm1))\n",
    "print('\\nAUROC: ', metrics.roc_auc_score(ytest, pred_svm1))"
   ]
  },
  {
   "cell_type": "code",
   "execution_count": 19,
   "metadata": {},
   "outputs": [],
   "source": [
    "#Vamos fazer com outro tipo de kernel\n",
    "classifier_svm2 = SVC(kernel='sigmoid').fit(xtrain, ytrain)\n",
    "pred_svm2 = classifier_svm2.predict(xtest)"
   ]
  },
  {
   "cell_type": "code",
   "execution_count": 20,
   "metadata": {},
   "outputs": [
    {
     "name": "stdout",
     "output_type": "stream",
     "text": [
      "Matriz de confusão:\n",
      " [[94 29]\n",
      " [57 12]]\n",
      "\n",
      "Acurácia:  0.5520833333333334\n",
      "\n",
      "F1:  0.21818181818181817\n",
      "\n",
      "AUROC:  0.46907034287734173\n"
     ]
    }
   ],
   "source": [
    "#Avaliando\n",
    "print('Matriz de confusão:\\n', metrics.confusion_matrix(ytest, pred_svm2))\n",
    "print('\\nAcurácia: ', metrics.accuracy_score(ytest, pred_svm2))\n",
    "print('\\nF1: ', metrics.f1_score(ytest, pred_svm2))\n",
    "print('\\nAUROC: ', metrics.roc_auc_score(ytest, pred_svm2))"
   ]
  },
  {
   "cell_type": "markdown",
   "metadata": {},
   "source": [
    "Como é visível **PIOROU BASTANTE**.\n",
    "O que fazemos então? voltamos para o rbf"
   ]
  },
  {
   "cell_type": "code",
   "execution_count": 21,
   "metadata": {},
   "outputs": [],
   "source": [
    "#Agora vamos testar com o rbf e gamma\n",
    "classifier_svm3 = SVC(kernel = 'rbf', gamma = 'auto').fit(xtrain, ytrain)\n",
    "pred_svm3 = classifier_svm3.predict(xtest)"
   ]
  },
  {
   "cell_type": "code",
   "execution_count": 22,
   "metadata": {},
   "outputs": [
    {
     "name": "stdout",
     "output_type": "stream",
     "text": [
      "Matriz de confusão:\n",
      " [[123   0]\n",
      " [ 69   0]]\n",
      "\n",
      "Acurácia:  0.640625\n",
      "\n",
      "F1:  0.0\n",
      "\n",
      "AUROC:  0.5\n"
     ]
    }
   ],
   "source": [
    "#Avaliando\n",
    "print('Matriz de confusão:\\n', metrics.confusion_matrix(ytest, pred_svm3))\n",
    "print('\\nAcurácia: ', metrics.accuracy_score(ytest, pred_svm3))\n",
    "print('\\nF1: ', metrics.f1_score(ytest, pred_svm3))\n",
    "print('\\nAUROC: ', metrics.roc_auc_score(ytest, pred_svm3))"
   ]
  },
  {
   "cell_type": "markdown",
   "metadata": {},
   "source": [
    "Nossos dados ficaram horríveis e ainda por cima, enviesamos nosso classificador para predizer apenas um dado, o que é horrível."
   ]
  },
  {
   "cell_type": "code",
   "execution_count": 23,
   "metadata": {},
   "outputs": [],
   "source": [
    "#Nossa ultima análise\n",
    "classifier_svm4 = SVC(C = 0.1, kernel = 'rbf', gamma = 0.0001).fit(xtrain, ytrain)\n",
    "pred_svm4 = classifier_svm4.predict(xtest)"
   ]
  },
  {
   "cell_type": "code",
   "execution_count": 24,
   "metadata": {},
   "outputs": [
    {
     "name": "stdout",
     "output_type": "stream",
     "text": [
      "Matriz de confusão:\n",
      " [[112  11]\n",
      " [ 43  26]]\n",
      "\n",
      "Acurácia:  0.71875\n",
      "\n",
      "F1:  0.49056603773584906\n",
      "\n",
      "AUROC:  0.6436903499469776\n"
     ]
    }
   ],
   "source": [
    "#Avaliando\n",
    "print('Matriz de confusão:\\n', metrics.confusion_matrix(ytest, pred_svm4))\n",
    "print('\\nAcurácia: ', metrics.accuracy_score(ytest, pred_svm4))\n",
    "print('\\nF1: ', metrics.f1_score(ytest, pred_svm4))\n",
    "print('\\nAUROC: ', metrics.roc_auc_score(ytest, pred_svm4))"
   ]
  },
  {
   "cell_type": "markdown",
   "metadata": {},
   "source": [
    "Melhorou comparada ao anterior, mas ao primeiro de todos, ainda está ruim.\n",
    "\n",
    "**CONCLUSÃO**: podemos ficar aqui o dia todo testando combinações, setando e rodando e não sairíamos daqui, pois é um trabalho braçal e muito lento."
   ]
  },
  {
   "cell_type": "markdown",
   "metadata": {},
   "source": [
    "**COMO SERIA NO RANDOM FOREST?**"
   ]
  },
  {
   "cell_type": "markdown",
   "metadata": {},
   "source": [
    "## Random Forest\n",
    "---"
   ]
  },
  {
   "cell_type": "code",
   "execution_count": 25,
   "metadata": {},
   "outputs": [],
   "source": [
    "#Importanfo as bibliotecas\n",
    "from sklearn.ensemble import RandomForestClassifier\n",
    "\n",
    "#treinando \n",
    "classifier_florest1 = RandomForestClassifier(n_estimators=10, random_state=42).fit(xtrain, ytrain)\n",
    "\n",
    "#Aplicando previsão\n",
    "pred_florest1 = classifier_florest1.predict(xtest)"
   ]
  },
  {
   "cell_type": "code",
   "execution_count": 26,
   "metadata": {},
   "outputs": [
    {
     "name": "stdout",
     "output_type": "stream",
     "text": [
      "Matriz de confusão:\n",
      " [[97 26]\n",
      " [24 45]]\n",
      "\n",
      "Acurácia:  0.7395833333333334\n",
      "\n",
      "F1:  0.6428571428571428\n",
      "\n",
      "AUROC:  0.72039589961117\n"
     ]
    }
   ],
   "source": [
    "#Avaliando\n",
    "print('Matriz de confusão:\\n', metrics.confusion_matrix(ytest, pred_florest1))\n",
    "print('\\nAcurácia: ', metrics.accuracy_score(ytest, pred_florest1))\n",
    "print('\\nF1: ', metrics.f1_score(ytest, pred_florest1))\n",
    "print('\\nAUROC: ', metrics.roc_auc_score(ytest, pred_florest1))"
   ]
  },
  {
   "cell_type": "code",
   "execution_count": 27,
   "metadata": {},
   "outputs": [],
   "source": [
    "#Testando outro seed do problema para ver a diferença\n",
    "#treinando \n",
    "classifier_florest2 = RandomForestClassifier(n_estimators=10, random_state=100).fit(xtrain, ytrain)\n",
    "\n",
    "#Aplicando previsão\n",
    "pred_florest2 = classifier_florest2.predict(xtest)"
   ]
  },
  {
   "cell_type": "code",
   "execution_count": 28,
   "metadata": {},
   "outputs": [
    {
     "name": "stdout",
     "output_type": "stream",
     "text": [
      "Matriz de confusão:\n",
      " [[104  19]\n",
      " [ 32  37]]\n",
      "\n",
      "Acurácia:  0.734375\n",
      "\n",
      "F1:  0.5920000000000001\n",
      "\n",
      "AUROC:  0.690880169671262\n"
     ]
    }
   ],
   "source": [
    "#Avaliando\n",
    "print('Matriz de confusão:\\n', metrics.confusion_matrix(ytest, pred_florest2))\n",
    "print('\\nAcurácia: ', metrics.accuracy_score(ytest, pred_florest2))\n",
    "print('\\nF1: ', metrics.f1_score(ytest, pred_florest2))\n",
    "print('\\nAUROC: ', metrics.roc_auc_score(ytest, pred_florest2))"
   ]
  },
  {
   "cell_type": "code",
   "execution_count": 29,
   "metadata": {},
   "outputs": [],
   "source": [
    "#Treinando com mais estimadores\n",
    "\n",
    "#treinando \n",
    "classifier_florest3 = RandomForestClassifier(n_estimators=100, random_state=42).fit(xtrain, ytrain)\n",
    "\n",
    "#Aplicando previsão\n",
    "pred_florest3 = classifier_florest3.predict(xtest)"
   ]
  },
  {
   "cell_type": "code",
   "execution_count": 30,
   "metadata": {},
   "outputs": [
    {
     "name": "stdout",
     "output_type": "stream",
     "text": [
      "Matriz de confusão:\n",
      " [[96 27]\n",
      " [24 45]]\n",
      "\n",
      "Acurácia:  0.734375\n",
      "\n",
      "F1:  0.6382978723404256\n",
      "\n",
      "AUROC:  0.7163308589607635\n"
     ]
    }
   ],
   "source": [
    "#Avaliando\n",
    "print('Matriz de confusão:\\n', metrics.confusion_matrix(ytest, pred_florest3))\n",
    "print('\\nAcurácia: ', metrics.accuracy_score(ytest, pred_florest3))\n",
    "print('\\nF1: ', metrics.f1_score(ytest, pred_florest3))\n",
    "print('\\nAUROC: ', metrics.roc_auc_score(ytest, pred_florest3))"
   ]
  },
  {
   "cell_type": "markdown",
   "metadata": {},
   "source": [
    "Poderiamos até aplicar o bootstrap = false, porém, na prática isso até pioraria o modelo.\n",
    "**CONCLUSÃO**: É inviável totalmente aplicar sistematicamente o processo de sintonia de hiperparâmetros manualmente.\n",
    "Vamos buscar formas diferentes de fazer isso, logo, vamos trabalhar com duas formas de fazer isso:\n",
    "* GRID SEARCH\n",
    "* RANDOM SEARCH\n",
    "\n",
    "Aplicando com a validação cruzada, tudo implementado de forma em conjunto para utilizar menos código e mais tempo para avaliação."
   ]
  },
  {
   "cell_type": "markdown",
   "metadata": {},
   "source": [
    "## GRID SEARCH\n",
    "---\n",
    "Utilizando o GRID Search com kfold estratificado e o SVM"
   ]
  },
  {
   "cell_type": "code",
   "execution_count": 31,
   "metadata": {},
   "outputs": [],
   "source": [
    "#Importanto o necessário para trabalharmos\n",
    "from sklearn.model_selection import StratifiedKFold, GridSearchCV"
   ]
  },
  {
   "cell_type": "code",
   "execution_count": 33,
   "metadata": {},
   "outputs": [
    {
     "data": {
      "text/plain": [
       "GridSearchCV(cv=StratifiedKFold(n_splits=10, random_state=None, shuffle=False),\n",
       "             error_score=nan,\n",
       "             estimator=SVC(C=1.0, break_ties=False, cache_size=200,\n",
       "                           class_weight=None, coef0=0.0,\n",
       "                           decision_function_shape='ovr', degree=3,\n",
       "                           gamma='scale', kernel='rbf', max_iter=-1,\n",
       "                           probability=False, random_state=None, shrinking=True,\n",
       "                           tol=0.001, verbose=False),\n",
       "             iid='deprecated', n_jobs=None,\n",
       "             param_grid={'C': [0.01, 1, 10], 'kernel': ('sigmoid', 'rbf')},\n",
       "             pre_dispatch='2*n_jobs', refit=True, return_train_score=False,\n",
       "             scoring=make_scorer(f1_score), verbose=0)"
      ]
     },
     "execution_count": 33,
     "metadata": {},
     "output_type": "execute_result"
    }
   ],
   "source": [
    "#Agora vamos realizar todo o desenvolvimento de código para aplicar o grid\n",
    "\n",
    "hiperparam_dic = {'kernel': ('sigmoid', 'rbf'), 'C':[0.01, 1, 10]}\n",
    "#este dicionário é para informar a função do grid quais os parâmetros utilizar\n",
    "\n",
    "cv_strat = StratifiedKFold(n_splits=10)\n",
    "\n",
    "classifier_svc = SVC() #apenas instânciando\n",
    "\n",
    "f1 = metrics.make_scorer(metrics.f1_score) #Definindo uma estratégia de score a partir de uma métrica\n",
    "\n",
    "#Instânciando nosso modelo de grid com os hiperparâmetros e a validação\n",
    "grid_cv = GridSearchCV(classifier_svc, hiperparam_dic, cv= cv_strat, scoring=f1)\n",
    "grid_cv.fit(data_diab, labels_diab) #treinando os modelos"
   ]
  },
  {
   "cell_type": "code",
   "execution_count": 34,
   "metadata": {},
   "outputs": [
    {
     "name": "stdout",
     "output_type": "stream",
     "text": [
      "Resumo de todos os resultado: \n",
      "\n",
      " {'mean_fit_time': array([0.01253459, 0.00937467, 0.00977321, 0.00837734, 0.00907538,\n",
      "       0.00927827]), 'std_fit_time': array([0.00537225, 0.00091407, 0.00039891, 0.00048879, 0.00029922,\n",
      "       0.00063674]), 'mean_score_time': array([0.0017957 , 0.00129683, 0.00159609, 0.0013967 , 0.00169573,\n",
      "       0.00149648]), 'std_score_time': array([0.00039908, 0.00045691, 0.00048867, 0.00048858, 0.00045691,\n",
      "       0.00049889]), 'param_C': masked_array(data=[0.01, 0.01, 1, 1, 10, 10],\n",
      "             mask=[False, False, False, False, False, False],\n",
      "       fill_value='?',\n",
      "            dtype=object), 'param_kernel': masked_array(data=['sigmoid', 'rbf', 'sigmoid', 'rbf', 'sigmoid', 'rbf'],\n",
      "             mask=[False, False, False, False, False, False],\n",
      "       fill_value='?',\n",
      "            dtype=object), 'params': [{'C': 0.01, 'kernel': 'sigmoid'}, {'C': 0.01, 'kernel': 'rbf'}, {'C': 1, 'kernel': 'sigmoid'}, {'C': 1, 'kernel': 'rbf'}, {'C': 10, 'kernel': 'sigmoid'}, {'C': 10, 'kernel': 'rbf'}], 'split0_test_score': array([0.        , 0.        , 0.1       , 0.56521739, 0.17777778,\n",
      "       0.58823529]), 'split1_test_score': array([0.        , 0.        , 0.17777778, 0.47368421, 0.32142857,\n",
      "       0.60465116]), 'split2_test_score': array([0.        , 0.        , 0.13333333, 0.58333333, 0.11320755,\n",
      "       0.57142857]), 'split3_test_score': array([0.        , 0.        , 0.18181818, 0.54166667, 0.28070175,\n",
      "       0.58823529]), 'split4_test_score': array([0.        , 0.        , 0.11111111, 0.43243243, 0.16949153,\n",
      "       0.47368421]), 'split5_test_score': array([0.        , 0.        , 0.04444444, 0.65116279, 0.11111111,\n",
      "       0.68085106]), 'split6_test_score': array([0.        , 0.        , 0.2173913 , 0.57777778, 0.32142857,\n",
      "       0.66666667]), 'split7_test_score': array([0.        , 0.        , 0.08695652, 0.68085106, 0.0754717 ,\n",
      "       0.68085106]), 'split8_test_score': array([0.        , 0.        , 0.13636364, 0.59090909, 0.25454545,\n",
      "       0.56521739]), 'split9_test_score': array([0.        , 0.        , 0.05882353, 0.61904762, 0.18181818,\n",
      "       0.66666667]), 'mean_test_score': array([0.        , 0.        , 0.12480198, 0.57160824, 0.20069822,\n",
      "       0.60864874]), 'std_test_score': array([0.        , 0.        , 0.05280328, 0.07138476, 0.08465786,\n",
      "       0.06284501]), 'rank_test_score': array([5, 5, 4, 2, 3, 1])}\n"
     ]
    }
   ],
   "source": [
    "#Agora, depois do treino e validação, vamos verificar as repostas\n",
    "print('Resumo de todos os resultado: \\n\\n', grid_cv.cv_results_)"
   ]
  },
  {
   "cell_type": "markdown",
   "metadata": {},
   "source": [
    "FICA UMA PARADA MUITO FEIA DE OLHAR ASSIM, E MUITO CONFUSO, VAMOS OLHAR APENAS PARA O MELHOR RESULTADO"
   ]
  },
  {
   "cell_type": "code",
   "execution_count": 35,
   "metadata": {},
   "outputs": [
    {
     "name": "stdout",
     "output_type": "stream",
     "text": [
      "Melhor resultado f1: 0.6086487385278134\n",
      "\n",
      "Melhor configuração de hiperparâmetros:  {'C': 10, 'kernel': 'rbf'}\n",
      "\n",
      "Configuração de todos os hiperparâmetros do melhor estimador encontrado:\n",
      " SVC(C=10, break_ties=False, cache_size=200, class_weight=None, coef0=0.0,\n",
      "    decision_function_shape='ovr', degree=3, gamma='scale', kernel='rbf',\n",
      "    max_iter=-1, probability=False, random_state=None, shrinking=True,\n",
      "    tol=0.001, verbose=False)\n"
     ]
    }
   ],
   "source": [
    "#Olhando o melhor resultado\n",
    "print('Melhor resultado f1:', grid_cv.best_score_)\n",
    "print('\\nMelhor configuração de hiperparâmetros: ', grid_cv.best_params_)\n",
    "print('\\nConfiguração de todos os hiperparâmetros do melhor estimador encontrado:\\n',\n",
    "     grid_cv.best_estimator_)"
   ]
  },
  {
   "cell_type": "markdown",
   "metadata": {},
   "source": [
    "### APLICANDO NO RANDOM FOREST"
   ]
  },
  {
   "cell_type": "code",
   "execution_count": 36,
   "metadata": {},
   "outputs": [
    {
     "data": {
      "text/plain": [
       "GridSearchCV(cv=StratifiedKFold(n_splits=10, random_state=None, shuffle=False),\n",
       "             error_score=nan,\n",
       "             estimator=RandomForestClassifier(bootstrap=True, ccp_alpha=0.0,\n",
       "                                              class_weight=None,\n",
       "                                              criterion='gini', max_depth=None,\n",
       "                                              max_features='auto',\n",
       "                                              max_leaf_nodes=None,\n",
       "                                              max_samples=None,\n",
       "                                              min_impurity_decrease=0.0,\n",
       "                                              min_impurity_split=None,\n",
       "                                              min_samples_leaf=1,\n",
       "                                              min_samples_split=2,\n",
       "                                              min_weight_fraction_leaf=0.0,\n",
       "                                              n_estimators=100, n_jobs=None,\n",
       "                                              oob_score=False,\n",
       "                                              random_state=None, verbose=0,\n",
       "                                              warm_start=False),\n",
       "             iid='deprecated', n_jobs=None,\n",
       "             param_grid={'bootstrap': (True, False),\n",
       "                         'n_estimators': [10, 100, 1000]},\n",
       "             pre_dispatch='2*n_jobs', refit=True, return_train_score=False,\n",
       "             scoring=make_scorer(f1_score), verbose=0)"
      ]
     },
     "execution_count": 36,
     "metadata": {},
     "output_type": "execute_result"
    }
   ],
   "source": [
    "#Há diversas formas de realizar esse tipo, e a aplicação computacional é extremamente pesada\n",
    "#Pois o random forest já é pesado na execução dependendo dos n_estimators\n",
    "#Vamos fazer apenas mais simples\n",
    "\n",
    "classifier_florest = RandomForestClassifier()\n",
    "hiperparam_dic1 = {'n_estimators':[10, 100, 1000], 'bootstrap': (True, False)}\n",
    "\n",
    "#Instânciando\n",
    "grid_cv1 = GridSearchCV(classifier_florest, hiperparam_dic1, cv = cv_strat, scoring=f1)\n",
    "grid_cv1.fit(data_diab, labels_diab)"
   ]
  },
  {
   "cell_type": "code",
   "execution_count": 37,
   "metadata": {},
   "outputs": [
    {
     "name": "stdout",
     "output_type": "stream",
     "text": [
      "Melhor resultado f1: 0.6443936932632583\n",
      "\n",
      "Melhor configuração de hiperparâmetros:  {'bootstrap': True, 'n_estimators': 1000}\n",
      "\n",
      "Configuração de todos os hiperparâmetros do melhor estimador encontrado:\n",
      " RandomForestClassifier(bootstrap=True, ccp_alpha=0.0, class_weight=None,\n",
      "                       criterion='gini', max_depth=None, max_features='auto',\n",
      "                       max_leaf_nodes=None, max_samples=None,\n",
      "                       min_impurity_decrease=0.0, min_impurity_split=None,\n",
      "                       min_samples_leaf=1, min_samples_split=2,\n",
      "                       min_weight_fraction_leaf=0.0, n_estimators=1000,\n",
      "                       n_jobs=None, oob_score=False, random_state=None,\n",
      "                       verbose=0, warm_start=False)\n"
     ]
    }
   ],
   "source": [
    "#Agora vamos ver o melhor modelo e como ele se comportou\n",
    "#Olhando o melhor resultado\n",
    "print('Melhor resultado f1:', grid_cv1.best_score_)\n",
    "print('\\nMelhor configuração de hiperparâmetros: ', grid_cv1.best_params_)\n",
    "print('\\nConfiguração de todos os hiperparâmetros do melhor estimador encontrado:\\n',\n",
    "     grid_cv1.best_estimator_)"
   ]
  },
  {
   "cell_type": "markdown",
   "metadata": {},
   "source": [
    "## RANDOM SEARCH\n",
    "---\n",
    "Agora vamos analisar como o random search se comporta, sendo muito melhor e mais aplicável que o grid search, pelo custo computacional em alguns casos (mas não é sempre, deve-se avaliar)."
   ]
  },
  {
   "cell_type": "code",
   "execution_count": 38,
   "metadata": {},
   "outputs": [],
   "source": [
    "#Importando as bibliotecas necessárias\n",
    "from sklearn.model_selection import RandomizedSearchCV\n",
    "from scipy.stats import uniform"
   ]
  },
  {
   "cell_type": "code",
   "execution_count": 39,
   "metadata": {},
   "outputs": [
    {
     "data": {
      "text/plain": [
       "RandomizedSearchCV(cv=StratifiedKFold(n_splits=10, random_state=None, shuffle=False),\n",
       "                   error_score=nan,\n",
       "                   estimator=SVC(C=1.0, break_ties=False, cache_size=200,\n",
       "                                 class_weight=None, coef0=0.0,\n",
       "                                 decision_function_shape='ovr', degree=3,\n",
       "                                 gamma='scale', kernel='rbf', max_iter=-1,\n",
       "                                 probability=False, random_state=None,\n",
       "                                 shrinking=True, tol=0.001, verbose=False),\n",
       "                   iid='deprecated', n_iter=10, n_jobs=None,\n",
       "                   param_distributions={'C': <scipy.stats._distn_infrastructure.rv_frozen object at 0x000001AB9D1D4688>,\n",
       "                                        'kernel': ['sigmoid', 'rbf']},\n",
       "                   pre_dispatch='2*n_jobs', random_state=42, refit=True,\n",
       "                   return_train_score=False, scoring=make_scorer(f1_score),\n",
       "                   verbose=0)"
      ]
     },
     "execution_count": 39,
     "metadata": {},
     "output_type": "execute_result"
    }
   ],
   "source": [
    "#Criando e definindo a instânciação\n",
    "distributions = dict(kernel = ['sigmoid', 'rbf'], \n",
    "                    C = uniform(loc=0, scale =10)) #Definindo uma distribuição uniforme de 0 a 10\n",
    "random_cv = RandomizedSearchCV(classifier_svc, distributions, cv = cv_strat, scoring=f1, random_state=42, n_iter=10)\n",
    "random_cv.fit(data_diab, labels_diab)"
   ]
  },
  {
   "cell_type": "code",
   "execution_count": 40,
   "metadata": {},
   "outputs": [
    {
     "name": "stdout",
     "output_type": "stream",
     "text": [
      "Melhor resultado f1: 0.6065838014605637\n",
      "\n",
      "Melhor configuração de hiperparâmetros:  {'C': 8.324426408004218, 'kernel': 'rbf'}\n",
      "\n",
      "Configuração de todos os hiperparâmetros do melhor estimador encontrado:\n",
      " SVC(C=8.324426408004218, break_ties=False, cache_size=200, class_weight=None,\n",
      "    coef0=0.0, decision_function_shape='ovr', degree=3, gamma='scale',\n",
      "    kernel='rbf', max_iter=-1, probability=False, random_state=None,\n",
      "    shrinking=True, tol=0.001, verbose=False)\n"
     ]
    }
   ],
   "source": [
    "#Olhando o melhor resultado\n",
    "print('Melhor resultado f1:', random_cv.best_score_)\n",
    "print('\\nMelhor configuração de hiperparâmetros: ', random_cv.best_params_)\n",
    "print('\\nConfiguração de todos os hiperparâmetros do melhor estimador encontrado:\\n',\n",
    "     random_cv.best_estimator_)"
   ]
  },
  {
   "cell_type": "code",
   "execution_count": 42,
   "metadata": {},
   "outputs": [],
   "source": [
    "#Fazendo para o random forest\n",
    "from scipy.stats import randint #para criar distribuição inteira aleatória"
   ]
  },
  {
   "cell_type": "code",
   "execution_count": null,
   "metadata": {},
   "outputs": [],
   "source": [
    "#Definindo e instanciando\n",
    "\n",
    "distributions1 = dict(n_estimators = randint(10, 100),\n",
    "                    bootstrap = [True, False],\n",
    "                    criterion = ['gini', 'entropy'])\n",
    "\n",
    "classifier_florest = RandomForestClassifier(random_state=42)\n",
    "\n",
    "random_cv1 = RandomizedSearchCV(classifier_florest, distributions1, cv =cv_strat,\n",
    "                               scoring=f1, random_state=42, n"
   ]
  },
  {
   "cell_type": "code",
   "execution_count": 43,
   "metadata": {},
   "outputs": [
    {
     "data": {
      "text/plain": [
       "RandomizedSearchCV(cv=StratifiedKFold(n_splits=10, random_state=None, shuffle=False),\n",
       "                   error_score=nan,\n",
       "                   estimator=RandomForestClassifier(bootstrap=True,\n",
       "                                                    ccp_alpha=0.0,\n",
       "                                                    class_weight=None,\n",
       "                                                    criterion='gini',\n",
       "                                                    max_depth=None,\n",
       "                                                    max_features='auto',\n",
       "                                                    max_leaf_nodes=None,\n",
       "                                                    max_samples=None,\n",
       "                                                    min_impurity_decrease=0.0,\n",
       "                                                    min_impurity_split=None,\n",
       "                                                    min_samples_leaf=1,\n",
       "                                                    min_samples_s...\n",
       "                                                    random_state=42, verbose=0,\n",
       "                                                    warm_start=False),\n",
       "                   iid='deprecated', n_iter=10, n_jobs=None,\n",
       "                   param_distributions={'bootstrap': [True, False],\n",
       "                                        'criterion': ['gini', 'entropy'],\n",
       "                                        'n_estimators': <scipy.stats._distn_infrastructure.rv_frozen object at 0x000001AB9E65F588>},\n",
       "                   pre_dispatch='2*n_jobs', random_state=42, refit=True,\n",
       "                   return_train_score=False, scoring=make_scorer(f1_score),\n",
       "                   verbose=0)"
      ]
     },
     "execution_count": 43,
     "metadata": {},
     "output_type": "execute_result"
    }
   ],
   "source": [
    "#Definindo e instanciando\n",
    "\n",
    "distributions1 = dict(n_estimators = randint(10, 100),\n",
    "                    bootstrap = [True, False],\n",
    "                    criterion = ['gini', 'entropy'])\n",
    "\n",
    "classifier_florest = RandomForestClassifier(random_state=42)\n",
    "\n",
    "random_cv1 = RandomizedSearchCV(classifier_florest, distributions1, cv =cv_strat,\n",
    "                               scoring=f1, random_state=42, n_iter=10)\n",
    "random_cv1.fit(data_diab, labels_diab)"
   ]
  },
  {
   "cell_type": "code",
   "execution_count": 44,
   "metadata": {},
   "outputs": [
    {
     "name": "stdout",
     "output_type": "stream",
     "text": [
      "Melhor resultado f1: 0.6336649387264222\n",
      "\n",
      "Melhor configuração de hiperparâmetros:  {'bootstrap': False, 'criterion': 'gini', 'n_estimators': 42}\n",
      "\n",
      "Configuração de todos os hiperparâmetros do melhor estimador encontrado:\n",
      " RandomForestClassifier(bootstrap=False, ccp_alpha=0.0, class_weight=None,\n",
      "                       criterion='gini', max_depth=None, max_features='auto',\n",
      "                       max_leaf_nodes=None, max_samples=None,\n",
      "                       min_impurity_decrease=0.0, min_impurity_split=None,\n",
      "                       min_samples_leaf=1, min_samples_split=2,\n",
      "                       min_weight_fraction_leaf=0.0, n_estimators=42,\n",
      "                       n_jobs=None, oob_score=False, random_state=42, verbose=0,\n",
      "                       warm_start=False)\n"
     ]
    }
   ],
   "source": [
    "#Olhando o melhor resultado\n",
    "print('Melhor resultado f1:', random_cv1.best_score_)\n",
    "print('\\nMelhor configuração de hiperparâmetros: ', random_cv1.best_params_)\n",
    "print('\\nConfiguração de todos os hiperparâmetros do melhor estimador encontrado:\\n',\n",
    "     random_cv1.best_estimator_)"
   ]
  },
  {
   "cell_type": "markdown",
   "metadata": {},
   "source": [
    "Nosso random search foi muito mais rápido, demorando pouco tempo e realizando até mesmo mais iterações que o próprio grid search e devolvendo um melhor resultado que o mesmo."
   ]
  }
 ],
 "metadata": {
  "kernelspec": {
   "display_name": "Python 3",
   "language": "python",
   "name": "python3"
  },
  "language_info": {
   "codemirror_mode": {
    "name": "ipython",
    "version": 3
   },
   "file_extension": ".py",
   "mimetype": "text/x-python",
   "name": "python",
   "nbconvert_exporter": "python",
   "pygments_lexer": "ipython3",
   "version": "3.7.6"
  }
 },
 "nbformat": 4,
 "nbformat_minor": 4
}
